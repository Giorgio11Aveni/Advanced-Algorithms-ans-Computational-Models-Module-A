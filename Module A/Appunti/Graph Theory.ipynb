{
 "cells": [
  {
   "cell_type": "code",
   "execution_count": 1,
   "id": "9301c8f9",
   "metadata": {},
   "outputs": [],
   "source": [
    "#Graph Theory Abstract Data Type#\n",
    "\n",
    "#Function that returns a list containing all the vertices of graph\n",
    "def vertices(graph):\n",
    "    vertexList=[]\n",
    "    for x,y in graph:\n",
    "        if(x not in vertexList):\n",
    "            vertexList.append(x)\n",
    "        if(y not in vertexList):\n",
    "            vertexList.append(y)\n",
    "    return sorted(vertexList)\n",
    "\n",
    "#Function that return the lenght of a vertexList\n",
    "def vertex_count(vertexList):\n",
    "    return len(vertexList)\n",
    "\n",
    "def edge_count(graph):\n",
    "    return len(graph)\n",
    "\n",
    "def edges(graph):\n",
    "    return graph\n",
    "\n",
    "def get_edge(graph, u, v):\n",
    "    if (u and v in element):\n",
    "        return True\n",
    "    else:\n",
    "        return False\n",
    "        \n"
   ]
  },
  {
   "cell_type": "code",
   "execution_count": 4,
   "id": "6fcd6a4f",
   "metadata": {},
   "outputs": [
    {
     "ename": "TypeError",
     "evalue": "bar() missing 1 required positional argument: 'height'",
     "output_type": "error",
     "traceback": [
      "\u001b[1;31m---------------------------------------------------------------------------\u001b[0m",
      "\u001b[1;31mTypeError\u001b[0m                                 Traceback (most recent call last)",
      "Input \u001b[1;32mIn [4]\u001b[0m, in \u001b[0;36m<cell line: 4>\u001b[1;34m()\u001b[0m\n\u001b[0;32m      1\u001b[0m \u001b[38;5;28;01mimport\u001b[39;00m \u001b[38;5;21;01mmatplotlib\u001b[39;00m\u001b[38;5;21;01m.\u001b[39;00m\u001b[38;5;21;01mpyplot\u001b[39;00m \u001b[38;5;28;01mas\u001b[39;00m \u001b[38;5;21;01mplt\u001b[39;00m\n\u001b[0;32m      3\u001b[0m D \u001b[38;5;241m=\u001b[39m {\u001b[38;5;241m1\u001b[39m:\u001b[38;5;241m26\u001b[39m, \u001b[38;5;241m2\u001b[39m: \u001b[38;5;241m17\u001b[39m, \u001b[38;5;241m3\u001b[39m:\u001b[38;5;241m30\u001b[39m}\n\u001b[1;32m----> 4\u001b[0m \u001b[43mplt\u001b[49m\u001b[38;5;241;43m.\u001b[39;49m\u001b[43mbar\u001b[49m\u001b[43m(\u001b[49m\u001b[43m(\u001b[49m\u001b[43mD\u001b[49m\u001b[38;5;241;43m.\u001b[39;49m\u001b[43mitems\u001b[49m\u001b[43m(\u001b[49m\u001b[43m)\u001b[49m\u001b[43m)\u001b[49m\u001b[43m)\u001b[49m\n\u001b[0;32m      5\u001b[0m plt\u001b[38;5;241m.\u001b[39mshow()\n",
      "\u001b[1;31mTypeError\u001b[0m: bar() missing 1 required positional argument: 'height'"
     ]
    }
   ],
   "source": [
    "import matplotlib.pyplot as plt\n",
    "\n",
    "D = {1:26, 2: 17, 3:30}\n",
    "plt.bar(*zip(*D.items()))\n",
    "plt.show()"
   ]
  },
  {
   "cell_type": "code",
   "execution_count": 5,
   "id": "8c14819e",
   "metadata": {},
   "outputs": [
    {
     "ename": "SyntaxError",
     "evalue": "invalid syntax (3475438460.py, line 1)",
     "output_type": "error",
     "traceback": [
      "\u001b[1;36m  Input \u001b[1;32mIn [5]\u001b[1;36m\u001b[0m\n\u001b[1;33m    def verticies has O(n*m)\u001b[0m\n\u001b[1;37m                  ^\u001b[0m\n\u001b[1;31mSyntaxError\u001b[0m\u001b[1;31m:\u001b[0m invalid syntax\n"
     ]
    }
   ],
   "source": [
    "def verticies has O(n*m) \n"
   ]
  },
  {
   "cell_type": "code",
   "execution_count": 30,
   "id": "d1b86d31",
   "metadata": {},
   "outputs": [
    {
     "data": {
      "text/plain": [
       "{1: [], 2: [], 3: [], 4: []}"
      ]
     },
     "execution_count": 30,
     "metadata": {},
     "output_type": "execute_result"
    }
   ],
   "source": [
    "def completeGraph(vertices, graph):\n",
    "    for vertice in vertices:\n",
    "        graph[vertice]=vertices\n",
    "    for element in graph:\n",
    "        graph[element].remove(element)\n",
    "    return graph\n",
    "\n",
    "graph={}\n",
    "vertices=[1,2,3,4]\n",
    "completeGraph(vertices, graph)\n",
    "\n",
    "    \n",
    "        "
   ]
  },
  {
   "cell_type": "code",
   "execution_count": null,
   "id": "3546956d",
   "metadata": {},
   "outputs": [],
   "source": [
    "graph={}\n",
    "vertices(1,2,3,4)\n",
    "for element in vertices:\n",
    "    insert_vertex(v, graph)\n",
    "    insert_edges()"
   ]
  },
  {
   "cell_type": "code",
   "execution_count": null,
   "id": "6e33d2a5",
   "metadata": {},
   "outputs": [],
   "source": []
  }
 ],
 "metadata": {
  "kernelspec": {
   "display_name": "Python 3 (ipykernel)",
   "language": "python",
   "name": "python3"
  },
  "language_info": {
   "codemirror_mode": {
    "name": "ipython",
    "version": 3
   },
   "file_extension": ".py",
   "mimetype": "text/x-python",
   "name": "python",
   "nbconvert_exporter": "python",
   "pygments_lexer": "ipython3",
   "version": "3.9.12"
  }
 },
 "nbformat": 4,
 "nbformat_minor": 5
}
