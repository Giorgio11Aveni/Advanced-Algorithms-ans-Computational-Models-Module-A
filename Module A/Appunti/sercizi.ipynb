{
 "cells": [
  {
   "cell_type": "code",
   "execution_count": 5,
   "id": "6fd1fd85",
   "metadata": {
    "scrolled": true
   },
   "outputs": [
    {
     "data": {
      "text/plain": [
       "[2, 3]"
      ]
     },
     "execution_count": 5,
     "metadata": {},
     "output_type": "execute_result"
    }
   ],
   "source": [
    "def intersection(lst1, lst2):\n",
    "    return list(set(lst1) & set(lst2))\n",
    "\n",
    "\n",
    "list1=[2,3,4,5]\n",
    "list2=[2,3,7,9]\n",
    "intersection(list1, list2)"
   ]
  },
  {
   "cell_type": "code",
   "execution_count": 9,
   "id": "2ee10c03",
   "metadata": {},
   "outputs": [
    {
     "name": "stdout",
     "output_type": "stream",
     "text": [
      "[40, 55, 60, 10, 20, 30]\n"
     ]
    }
   ],
   "source": [
    "list1=[10,20,30,40,55,60] \n",
    "for i in range(3):\n",
    "    list1.append(list1.pop(0))\n",
    "print(list1)"
   ]
  },
  {
   "cell_type": "code",
   "execution_count": 24,
   "id": "d1358ebc",
   "metadata": {},
   "outputs": [
    {
     "name": "stdout",
     "output_type": "stream",
     "text": [
      "[60, 55, 40, 30, 20, 10]\n"
     ]
    }
   ],
   "source": [
    "list1=[10,20,30,40,55,60] \n",
    "list2=[]\n",
    "for i in range(len(list1)):\n",
    "    list2.append(list1[-1])\n",
    "    list1.pop()\n",
    "print(list2)"
   ]
  },
  {
   "cell_type": "code",
   "execution_count": 30,
   "id": "90f36103",
   "metadata": {},
   "outputs": [
    {
     "name": "stdout",
     "output_type": "stream",
     "text": [
      "[60, 55, 40, 30, 20, 10]\n"
     ]
    }
   ],
   "source": [
    "list1=[10,20,30,40,55,60] \n",
    "for i in range(len(list1)):\n",
    "    list1.insert(i,list1[-1])\n",
    "    list1.pop()\n",
    "print(list1)"
   ]
  },
  {
   "cell_type": "code",
   "execution_count": 1,
   "id": "a16754fd",
   "metadata": {},
   "outputs": [],
   "source": [
    "a, b, c=10, 20, 30\n"
   ]
  },
  {
   "cell_type": "code",
   "execution_count": 2,
   "id": "acad8bac",
   "metadata": {},
   "outputs": [
    {
     "name": "stdout",
     "output_type": "stream",
     "text": [
      "(10, 20, 30)\n"
     ]
    }
   ],
   "source": [
    "x=10,20,30\n",
    "print(x)"
   ]
  },
  {
   "cell_type": "code",
   "execution_count": 15,
   "id": "4afe867c",
   "metadata": {},
   "outputs": [
    {
     "name": "stdout",
     "output_type": "stream",
     "text": [
      "Hello_Everybody\n"
     ]
    }
   ],
   "source": [
    "#Implement a python fragment which replaces in the string <code>s1=\"hello\" </code>\n",
    "\n",
    "\n",
    "s1=\"Hello Everybody\"\n",
    "s1=s1[:s1.index(\" \")]+\"_\"+s1[s1.index(\" \")+1:]\n",
    "print(s1)\n"
   ]
  },
  {
   "cell_type": "code",
   "execution_count": 2,
   "id": "49bd14c1",
   "metadata": {},
   "outputs": [
    {
     "name": "stdout",
     "output_type": "stream",
     "text": [
      "hEllo_EvErybodyE\n"
     ]
    }
   ],
   "source": [
    "s1=\"hello_everybody\"\n",
    "for i in range(len(s1)):\n",
    "    if(s1[i]==\"e\"):\n",
    "        s1=s1[:i]+\"E\"+s1[i+1:]\n",
    "print(s1)"
   ]
  },
  {
   "cell_type": "code",
   "execution_count": 1,
   "id": "a7dfe9d5",
   "metadata": {},
   "outputs": [
    {
     "name": "stdout",
     "output_type": "stream",
     "text": [
      "{1, 2, 3, 4, 5} <class 'set'>\n"
     ]
    }
   ],
   "source": [
    "s1={1,2,3,4,5}\n",
    "print(s1, type(s1))"
   ]
  },
  {
   "cell_type": "code",
   "execution_count": 11,
   "id": "6b40e5ec",
   "metadata": {},
   "outputs": [
    {
     "name": "stdout",
     "output_type": "stream",
     "text": [
      "[3, 4, 5]\n"
     ]
    }
   ],
   "source": [
    "list1=[1,1,2,3,3,4,5]\n",
    "list2=[3,3,4,5,6]\n",
    "list3=[]\n",
    "for element in list1:\n",
    "    if((element in list2) and (element not in list3)):\n",
    "        list3.append(element)\n",
    "print(list3)"
   ]
  },
  {
   "cell_type": "code",
   "execution_count": 15,
   "id": "edea81fb",
   "metadata": {},
   "outputs": [
    {
     "name": "stdout",
     "output_type": "stream",
     "text": [
      "set()\n"
     ]
    }
   ],
   "source": [
    "set1=set()\n",
    "print(set1)"
   ]
  },
  {
   "cell_type": "code",
   "execution_count": 31,
   "id": "1785b327",
   "metadata": {},
   "outputs": [
    {
     "name": "stdout",
     "output_type": "stream",
     "text": [
      "{'H': 1, 'e': 3, 'l': 2, 'o': 2, ' ': 1, 'v': 1, 'r': 1, 'y': 2, 'b': 1, 'd': 1}\n"
     ]
    }
   ],
   "source": [
    "s1=\"Hello everybody\"\n",
    "dict1={}\n",
    "for char in s1:\n",
    "    if char not in dict1.keys():\n",
    "        dict1[char]=1\n",
    "    else:\n",
    "        dict1[char]+=1\n",
    "print(dict1)"
   ]
  },
  {
   "cell_type": "code",
   "execution_count": null,
   "id": "b3c6d5e9",
   "metadata": {},
   "outputs": [],
   "source": []
  },
  {
   "cell_type": "code",
   "execution_count": null,
   "id": "4141ab71",
   "metadata": {},
   "outputs": [],
   "source": []
  }
 ],
 "metadata": {
  "kernelspec": {
   "display_name": "Python 3 (ipykernel)",
   "language": "python",
   "name": "python3"
  },
  "language_info": {
   "codemirror_mode": {
    "name": "ipython",
    "version": 3
   },
   "file_extension": ".py",
   "mimetype": "text/x-python",
   "name": "python",
   "nbconvert_exporter": "python",
   "pygments_lexer": "ipython3",
   "version": "3.9.12"
  }
 },
 "nbformat": 4,
 "nbformat_minor": 5
}
